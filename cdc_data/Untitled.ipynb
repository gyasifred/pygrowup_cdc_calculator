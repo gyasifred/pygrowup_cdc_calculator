{
 "cells": [
  {
   "cell_type": "code",
   "execution_count": 1,
   "id": "1deead8e-274b-46ec-95ee-5df1802dca88",
   "metadata": {},
   "outputs": [],
   "source": [
    "import pandas as  pd\n"
   ]
  },
  {
   "cell_type": "code",
   "execution_count": 11,
   "id": "c34feb6e-26f0-4551-b7b2-357c116f0e38",
   "metadata": {},
   "outputs": [],
   "source": [
    "df = pd.read_csv(\"wtage.csv\")"
   ]
  },
  {
   "cell_type": "code",
   "execution_count": 12,
   "id": "300d7f38-9651-4895-839a-e48a9f9165d5",
   "metadata": {},
   "outputs": [
    {
     "data": {
      "text/plain": [
       "Index(['Sex', 'Agemos', 'L', 'M', 'S', 'P3', 'P5', 'P10', 'P25', 'P50', 'P75',\n",
       "       'P90', 'P95', 'P97'],\n",
       "      dtype='object')"
      ]
     },
     "execution_count": 12,
     "metadata": {},
     "output_type": "execute_result"
    }
   ],
   "source": [
    "df.columns"
   ]
  },
  {
   "cell_type": "code",
   "execution_count": null,
   "id": "5a5b9a7d-1af5-4589-8227-eb9502e72180",
   "metadata": {},
   "outputs": [],
   "source": []
  },
  {
   "cell_type": "code",
   "execution_count": null,
   "id": "3f2c810d-a34c-47ec-8531-ab735a8eb3bb",
   "metadata": {},
   "outputs": [],
   "source": []
  }
 ],
 "metadata": {
  "kernelspec": {
   "display_name": "Python 3 (ipykernel)",
   "language": "python",
   "name": "python3"
  },
  "language_info": {
   "codemirror_mode": {
    "name": "ipython",
    "version": 3
   },
   "file_extension": ".py",
   "mimetype": "text/x-python",
   "name": "python",
   "nbconvert_exporter": "python",
   "pygments_lexer": "ipython3",
   "version": "3.11.13"
  }
 },
 "nbformat": 4,
 "nbformat_minor": 5
}
